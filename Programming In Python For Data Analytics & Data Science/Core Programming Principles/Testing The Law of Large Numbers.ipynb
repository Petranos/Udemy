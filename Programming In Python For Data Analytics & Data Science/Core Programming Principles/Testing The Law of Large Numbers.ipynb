{
 "cells": [
  {
   "cell_type": "markdown",
   "metadata": {},
   "source": [
    "Testing the Law of Large Numbers\n",
    "\n",
    "Instructions:\n",
    "\n",
    "Test the Law of Large Numbers for N random normally distributed numbers with mean=0, stdev=1.\n",
    "\n",
    "Create a Python script that will count how many of these numbers fall between -1 and 1 and divide \n",
    "by the total quantity of N\n",
    "\n",
    "You know that E(X) = 68,2%\n",
    "\n",
    "Check that Mean(XN)->E(X) as you rerun your script while increasing N"
   ]
  },
  {
   "cell_type": "code",
   "execution_count": 1,
   "metadata": {},
   "outputs": [],
   "source": [
    "import numpy as np\n",
    "from numpy.random import randn"
   ]
  },
  {
   "cell_type": "code",
   "execution_count": 94,
   "metadata": {},
   "outputs": [
    {
     "name": "stdout",
     "output_type": "stream",
     "text": [
      "For N = 10000 the value of the E(X) is: 68.42 %\n"
     ]
    }
   ],
   "source": [
    "N = 10000                               # specify sample size\n",
    "counter = 0                             # reset counter\n",
    "for i in randn(N):                      # iterate over random values\n",
    "    if (i > -1 and i < 1):              # check where iterated variable falls\n",
    "        counter = counter + 1           # increase counter if condition is met\n",
    "answer = counter / N                                                            # calculate hit-ratio\n",
    "print ('For N = {0} the value of the E(X) is: {1} %'. format(N, answer*100))    # print answer"
   ]
  }
 ],
 "metadata": {
  "kernelspec": {
   "display_name": "Python 3",
   "language": "python",
   "name": "python3"
  },
  "language_info": {
   "codemirror_mode": {
    "name": "ipython",
    "version": 3
   },
   "file_extension": ".py",
   "mimetype": "text/x-python",
   "name": "python",
   "nbconvert_exporter": "python",
   "pygments_lexer": "ipython3",
   "version": "3.6.4"
  }
 },
 "nbformat": 4,
 "nbformat_minor": 2
}
